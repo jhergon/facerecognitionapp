{
 "cells": [
  {
   "cell_type": "code",
   "execution_count": 2,
   "id": "3b3369a1",
   "metadata": {},
   "outputs": [
    {
     "name": "stdout",
     "output_type": "stream",
     "text": [
      "Collecting click==8.0.4\n",
      "  Downloading click-8.0.4-py3-none-any.whl (97 kB)\n",
      "     ---------------------------------------- 97.5/97.5 kB 5.8 MB/s eta 0:00:00\n",
      "Collecting colorama==0.4.4\n",
      "  Downloading colorama-0.4.4-py2.py3-none-any.whl (16 kB)\n",
      "Collecting cycler==0.11.0\n",
      "  Downloading cycler-0.11.0-py3-none-any.whl (6.4 kB)\n",
      "Collecting Flask==2.0.3\n",
      "  Downloading Flask-2.0.3-py3-none-any.whl (95 kB)\n",
      "     ---------------------------------------- 95.6/95.6 kB 5.3 MB/s eta 0:00:00\n",
      "Collecting fonttools==4.30.0\n",
      "  Downloading fonttools-4.30.0-py3-none-any.whl (898 kB)\n",
      "     -------------------------------------- 898.1/898.1 kB 6.3 MB/s eta 0:00:00\n",
      "Collecting itsdangerous==2.1.1\n",
      "  Downloading itsdangerous-2.1.1-py3-none-any.whl (15 kB)\n",
      "Collecting Jinja2==3.0.3\n",
      "  Downloading Jinja2-3.0.3-py3-none-any.whl (133 kB)\n",
      "     ---------------------------------------- 133.6/133.6 kB ? eta 0:00:00\n",
      "Collecting joblib==1.1.0\n",
      "  Downloading joblib-1.1.0-py2.py3-none-any.whl (306 kB)\n",
      "     -------------------------------------- 307.0/307.0 kB 9.3 MB/s eta 0:00:00\n",
      "Collecting kiwisolver==1.3.2\n",
      "  Downloading kiwisolver-1.3.2-cp39-cp39-win_amd64.whl (52 kB)\n",
      "     ---------------------------------------- 52.1/52.1 kB ? eta 0:00:00\n",
      "Collecting MarkupSafe==2.1.0\n",
      "  Downloading MarkupSafe-2.1.0-cp39-cp39-win_amd64.whl (16 kB)\n",
      "Collecting matplotlib==3.5.1\n",
      "  Downloading matplotlib-3.5.1-cp39-cp39-win_amd64.whl (7.2 MB)\n",
      "     ---------------------------------------- 7.2/7.2 MB 21.0 MB/s eta 0:00:00\n",
      "Collecting numpy==1.22.3\n",
      "  Downloading numpy-1.22.3-cp39-cp39-win_amd64.whl (14.7 MB)\n",
      "     --------------------------------------- 14.7/14.7 MB 21.1 MB/s eta 0:00:00\n",
      "Collecting opencv-python-headless==4.5.5.64\n",
      "  Downloading opencv_python_headless-4.5.5.64-cp36-abi3-win_amd64.whl (35.3 MB)\n",
      "     --------------------------------------- 35.3/35.3 MB 11.7 MB/s eta 0:00:00\n",
      "Collecting packaging==21.3\n",
      "  Downloading packaging-21.3-py3-none-any.whl (40 kB)\n",
      "     ---------------------------------------- 40.8/40.8 kB ? eta 0:00:00\n",
      "Collecting pandas==1.4.1\n",
      "  Downloading pandas-1.4.1-cp39-cp39-win_amd64.whl (10.5 MB)\n",
      "     --------------------------------------- 10.5/10.5 MB 28.4 MB/s eta 0:00:00\n",
      "Collecting Pillow==9.0.1\n",
      "  Downloading Pillow-9.0.1-cp39-cp39-win_amd64.whl (3.2 MB)\n",
      "     ---------------------------------------- 3.2/3.2 MB 29.6 MB/s eta 0:00:00\n",
      "Collecting pyparsing==3.0.7\n",
      "  Downloading pyparsing-3.0.7-py3-none-any.whl (98 kB)\n",
      "     ---------------------------------------- 98.0/98.0 kB ? eta 0:00:00\n",
      "Requirement already satisfied: python-dateutil==2.8.2 in c:\\users\\jose\\anaconda3\\envs\\facerecognition_flask\\lib\\site-packages (from -r requirements.txt (line 18)) (2.8.2)\n",
      "Collecting pytz==2021.3\n",
      "  Downloading pytz-2021.3-py2.py3-none-any.whl (503 kB)\n",
      "     ------------------------------------- 503.5/503.5 kB 30.8 MB/s eta 0:00:00\n",
      "Collecting scikit-learn==1.0.2\n",
      "  Downloading scikit_learn-1.0.2-cp39-cp39-win_amd64.whl (7.2 MB)\n",
      "     ---------------------------------------- 7.2/7.2 MB 24.1 MB/s eta 0:00:00\n",
      "Collecting scipy==1.8.0\n",
      "  Downloading scipy-1.8.0-cp39-cp39-win_amd64.whl (36.9 MB)\n",
      "     --------------------------------------- 36.9/36.9 MB 17.7 MB/s eta 0:00:00\n",
      "Collecting seaborn==0.11.2\n",
      "  Downloading seaborn-0.11.2-py3-none-any.whl (292 kB)\n",
      "     ------------------------------------ 292.8/292.8 kB 488.9 kB/s eta 0:00:00\n",
      "Requirement already satisfied: six==1.16.0 in c:\\users\\jose\\anaconda3\\envs\\facerecognition_flask\\lib\\site-packages (from -r requirements.txt (line 23)) (1.16.0)\n",
      "Collecting threadpoolctl==3.1.0\n",
      "  Downloading threadpoolctl-3.1.0-py3-none-any.whl (14 kB)\n",
      "Collecting unicorn==1.0.3\n",
      "  Downloading unicorn-1.0.3-py2.py3-none-win_amd64.whl (1.7 MB)\n",
      "     ---------------------------------------- 1.7/1.7 MB 21.1 MB/s eta 0:00:00\n",
      "Collecting Werkzeug==2.0.3\n",
      "  Downloading Werkzeug-2.0.3-py3-none-any.whl (289 kB)\n",
      "     ------------------------------------- 289.2/289.2 kB 17.4 MB/s eta 0:00:00\n",
      "Collecting gunicorn\n",
      "  Downloading gunicorn-20.1.0-py3-none-any.whl (79 kB)\n",
      "     ---------------------------------------- 79.5/79.5 kB ? eta 0:00:00\n",
      "Requirement already satisfied: setuptools>=3.0 in c:\\users\\jose\\anaconda3\\envs\\facerecognition_flask\\lib\\site-packages (from gunicorn->-r requirements.txt (line 27)) (65.6.3)\n",
      "Installing collected packages: unicorn, pytz, Werkzeug, threadpoolctl, pyparsing, Pillow, numpy, MarkupSafe, kiwisolver, joblib, itsdangerous, gunicorn, fonttools, cycler, colorama, scipy, pandas, packaging, opencv-python-headless, Jinja2, click, scikit-learn, matplotlib, Flask, seaborn\n",
      "  Attempting uninstall: MarkupSafe\n",
      "    Found existing installation: MarkupSafe 2.1.1\n",
      "    Uninstalling MarkupSafe-2.1.1:\n",
      "      Successfully uninstalled MarkupSafe-2.1.1\n"
     ]
    },
    {
     "name": "stderr",
     "output_type": "stream",
     "text": [
      "ERROR: Could not install packages due to an OSError: [WinError 5] Access is denied: 'C:\\\\Users\\\\jose\\\\anaconda3\\\\envs\\\\facerecognition_flask\\\\Lib\\\\site-packages\\\\~arkupsafe\\\\_speedups.cp39-win_amd64.pyd'\n",
      "Consider using the `--user` option or check the permissions.\n",
      "\n"
     ]
    }
   ],
   "source": [
    "!pip install -r requirements.txt\n"
   ]
  },
  {
   "cell_type": "code",
   "execution_count": null,
   "id": "e12b4c51",
   "metadata": {},
   "outputs": [],
   "source": []
  }
 ],
 "metadata": {
  "kernelspec": {
   "display_name": "Python 3 (ipykernel)",
   "language": "python",
   "name": "python3"
  },
  "language_info": {
   "codemirror_mode": {
    "name": "ipython",
    "version": 3
   },
   "file_extension": ".py",
   "mimetype": "text/x-python",
   "name": "python",
   "nbconvert_exporter": "python",
   "pygments_lexer": "ipython3",
   "version": "3.9.16"
  }
 },
 "nbformat": 4,
 "nbformat_minor": 5
}
